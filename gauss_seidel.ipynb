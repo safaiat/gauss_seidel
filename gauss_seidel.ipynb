{
 "cells": [
  {
   "cell_type": "code",
   "execution_count": 6,
   "id": "905f092b-0a29-4d9f-8d1c-838993dc9ead",
   "metadata": {},
   "outputs": [
    {
     "name": "stdout",
     "output_type": "stream",
     "text": [
      "Converged at iteration 1444\n",
      "Elapsed time: 21.00933337211609 seconds\n"
     ]
    }
   ],
   "source": [
    "import numpy as np\n",
    "from scipy.sparse import spdiags, kron, eye\n",
    "import time\n",
    "\n",
    "# Function to generate A and b\n",
    "def generate_Ab(resolution):\n",
    "    dm = lambda n: spdiags([-np.ones(n), np.ones(n)], [0, 1], n, n)\n",
    "    \n",
    "    Nx = 8 * resolution\n",
    "    Ny = 8 * resolution\n",
    "    Nz = 8 * resolution\n",
    "    \n",
    "    dx1 = dm(Nx)\n",
    "    dx2 = kron(eye(Ny), dx1)\n",
    "    dy1 = dm(Ny)\n",
    "    dy2 = kron(dy1, eye(Nx))\n",
    "    dz1 = dm(Nz)\n",
    "    \n",
    "    dx3 = kron(eye(Nz), dx2)\n",
    "    dy3 = kron(eye(Nz), dy2)\n",
    "    dz3 = kron(dz1, eye(Nx * Ny))\n",
    "    \n",
    "    N = Nx * Ny * Nz\n",
    "    ZM = np.zeros((N, N))\n",
    "    \n",
    "    a = np.block([[ZM, dz3.toarray(), dy3.toarray()],\n",
    "                  [dz3.toarray(), ZM, dx3.toarray()],\n",
    "                  [dy3.toarray(), dx3.toarray(), ZM]])\n",
    "    \n",
    "    A = a @ a.T\n",
    "    b = np.ones(A.shape[0])\n",
    "    \n",
    "    return A, b\n",
    "\n",
    "# Main code\n",
    "def gauss_seidel_solver(resolution, maxit=2000, tol=1):\n",
    "    # Generate A and b\n",
    "    A, b = generate_Ab(resolution)\n",
    "\n",
    "    # Initialization\n",
    "    x = np.zeros(b.shape)\n",
    "    r = np.zeros((x.shape[0], maxit))\n",
    "\n",
    "    # Gauss-Seidel iterations\n",
    "    start_time = time.time()\n",
    "\n",
    "    for kk in range(maxit):\n",
    "        x_k = x.copy()\n",
    "        \n",
    "        for ii in range(x.shape[0]):\n",
    "            S1 = A[ii, :ii] @ x[:ii]\n",
    "            S2 = A[ii, ii+1:] @ x[ii+1:]\n",
    "            x[ii] = (b[ii] - S1 - S2) / A[ii, ii]\n",
    "        \n",
    "        x_k1 = x.copy()\n",
    "        r[:, kk] = b - A @ x\n",
    "        \n",
    "        # Use 2-norm instead of Frobenius norm\n",
    "        if np.linalg.norm(r[:, kk], 2) < tol:\n",
    "            print(f\"Converged at iteration {kk}\")\n",
    "            break\n",
    "\n",
    "    end_time = time.time()\n",
    "    print(f\"Elapsed time: {end_time - start_time} seconds\")\n",
    "\n",
    "\n",
    "resolution = 1\n",
    "gauss_seidel_solver(resolution)\n"
   ]
  },
  {
   "cell_type": "code",
   "execution_count": null,
   "id": "f306e412-8a60-4862-9852-733ddabeb068",
   "metadata": {},
   "outputs": [],
   "source": []
  }
 ],
 "metadata": {
  "kernelspec": {
   "display_name": "Python 3 (ipykernel)",
   "language": "python",
   "name": "python3"
  },
  "language_info": {
   "codemirror_mode": {
    "name": "ipython",
    "version": 3
   },
   "file_extension": ".py",
   "mimetype": "text/x-python",
   "name": "python",
   "nbconvert_exporter": "python",
   "pygments_lexer": "ipython3",
   "version": "3.12.4"
  }
 },
 "nbformat": 4,
 "nbformat_minor": 5
}
